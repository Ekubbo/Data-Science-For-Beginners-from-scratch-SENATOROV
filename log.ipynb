{
 "cells": [
  {
   "cell_type": "code",
   "execution_count": null,
   "id": "7cc820de",
   "metadata": {
    "vscode": {
     "languageId": "plaintext"
    }
   },
   "outputs": [],
   "source": [
    "\"\"\"Интро.\"\"\""
   ]
  },
  {
   "cell_type": "markdown",
   "id": "44e429ea",
   "metadata": {},
   "source": [
    "27/10\n",
    "\n",
    "1) Зарегистрировался на github, kaggle, ods\n",
    "2) Прошел курс по kaggle на степике\n",
    "3) Установил GitHub Desktop\n",
    "4) Прошел курс \"Cursor и VS CODE\" на степике\n",
    "5) Установил Conda\n",
    "6) Настроил pre-commit для репозитория"
   ]
  },
  {
   "cell_type": "markdown",
   "id": "e15ad33f",
   "metadata": {},
   "source": [
    "28/10\n",
    "\n",
    "1. Начал проходить курс \"Курс Python-разработчик с Нуля до Open Source:Линтеры.Git.Github\"\n",
    "2. Прошел квиз: [TASK] Quiz  #6\n",
    "3. Прошел квиз: [TASK] Cpython"
   ]
  },
  {
   "cell_type": "markdown",
   "id": "cf4b2803",
   "metadata": {},
   "source": []
  },
  {
   "cell_type": "markdown",
   "id": "074eb6db",
   "metadata": {},
   "source": [
    "29/10\n",
    "1. Прошел квиз: [TASK] Виртуальное окружение #7\n"
   ]
  },
  {
   "cell_type": "markdown",
   "id": "9a7f4acb",
   "metadata": {},
   "source": [
    "30/10\n",
    "1. Прошел квиз: [TASK] git\n",
    "2. Прошел квиз: [TASK] Commits\n"
   ]
  }
 ],
 "metadata": {
  "language_info": {
   "name": "python"
  }
 },
 "nbformat": 4,
 "nbformat_minor": 5
}
