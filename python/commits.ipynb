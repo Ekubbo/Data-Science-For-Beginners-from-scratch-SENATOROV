{
 "cells": [
  {
   "cell_type": "code",
   "execution_count": 1,
   "id": "cbbca6a8",
   "metadata": {},
   "outputs": [
    {
     "data": {
      "text/plain": [
       "'[TASK] Commits  #5.'"
      ]
     },
     "execution_count": 1,
     "metadata": {},
     "output_type": "execute_result"
    }
   ],
   "source": [
    "\"\"\"[TASK] Commits  #5.\"\"\""
   ]
  },
  {
   "cell_type": "markdown",
   "id": "10c966a1",
   "metadata": {},
   "source": [
    "1. Опишите своими словами назначение каждого из этих типов коммитов:\n",
    "    - feat - добавление новой функциональности\n",
    "    - fix - исправление бага\n",
    "    - docs - изменения в документации\n",
    "    - style - исправления форматирования кода\n",
    "    - refactor - рефакторинг кода без изменения поведения\n",
    "    - test - изменения в тестах\n",
    "    - build - изменения сборки\n",
    "    - ci - настройки ci/cd\n",
    "    - perf - оптимизация/производительность\n",
    "    - chore - обновление зависимостей, настройка проекта\n",
    "2. Представьте, что вы исправили баг в функции, которая некорректно округляет числа. Сделайте фиктивный коммит и напишите для него сообщение в соответствии с Conventional Commits (используя тип fix).\n",
    "    - git commit -m \"fix: correct rounding logic\"\n",
    "3. Добавление новой функциональности:\n",
    "Допустим, вы реализовали новую функцию generateReport в проекте. Сделайте фиктивный коммит с типом feat, отражающий добавление этой функциональности\n",
    "    - git commit -m \"feat: generate report functionality\"\n",
    "4. Модификация формата кода или стилей:\n",
    "Представьте, что вы поправили отступы и форматирование во всём проекте, не меняя логики кода. Сделайте фиктивный коммит с типом style\n",
    "    - git commit -m \"style: correct code formatting and indentation\"\n",
    "5. Документация и тестирование:\n",
    "\n",
    "Сделайте фиктивный коммит с типом docs, добавляющий или улучшающий документацию для вашей новой функции.\n",
    "Сделайте фиктивный коммит с типом test, добавляющий тесты для этой же функции.\n",
    "    - git commit -m \"docs: add documentation for generate report function\"\n",
    "    - git commit -m \"test: add test for generate report function\""
   ]
  }
 ],
 "metadata": {
  "kernelspec": {
   "display_name": "base",
   "language": "python",
   "name": "python3"
  },
  "language_info": {
   "codemirror_mode": {
    "name": "ipython",
    "version": 3
   },
   "file_extension": ".py",
   "mimetype": "text/x-python",
   "name": "python",
   "nbconvert_exporter": "python",
   "pygments_lexer": "ipython3",
   "version": "3.13.5"
  }
 },
 "nbformat": 4,
 "nbformat_minor": 5
}
